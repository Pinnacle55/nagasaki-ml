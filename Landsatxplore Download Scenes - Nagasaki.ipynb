{
 "cells": [
  {
   "cell_type": "code",
   "execution_count": 1,
   "id": "8e1390a3",
   "metadata": {
    "scrolled": false
   },
   "outputs": [],
   "source": [
    "from landsatxplore.api import API\n",
    "from glob import glob\n",
    "import os, sys"
   ]
  },
  {
   "cell_type": "code",
   "execution_count": 2,
   "id": "61443657",
   "metadata": {},
   "outputs": [],
   "source": [
    "# Initialize a new API instance and get an access key\n",
    "api = API(\"pinnacle55\", \"KM89xq6rSRZ6zJP\")"
   ]
  },
  {
   "cell_type": "code",
   "execution_count": 3,
   "id": "b3d66eb8",
   "metadata": {},
   "outputs": [],
   "source": [
    "# list of years to search\n",
    "years = range(2014, 2024)\n",
    "\n",
    "scene_dict = {}\n",
    "\n",
    "for year in years:\n",
    "\n",
    "    # Search for Landsat TM scenes\n",
    "    scenes = api.search(\n",
    "        dataset='landsat_ot_c2_l2',\n",
    "        latitude=32.754418985494425,\n",
    "        longitude=129.8764305203059,\n",
    "        start_date=f'{year}-01-01', \n",
    "        end_date=f'{year+1}-01-01',\n",
    "        max_cloud_cover=5\n",
    "    )\n",
    "    \n",
    "    # sort scenes by amount of cloud cover\n",
    "    scenes = sorted(scenes, key = lambda x: x[\"cloud_cover\"])\n",
    "    \n",
    "    # store scenes in dictionary\n",
    "    scene_dict[str(year)] = scenes"
   ]
  },
  {
   "cell_type": "code",
   "execution_count": 6,
   "id": "69a0b00c",
   "metadata": {},
   "outputs": [
    {
     "name": "stdout",
     "output_type": "stream",
     "text": [
      "2014 1\n",
      "2015 5\n",
      "2016 2\n",
      "2017 1\n",
      "2018 4\n",
      "2019 3\n",
      "2020 4\n",
      "2021 7\n",
      "2022 4\n",
      "2023 5\n"
     ]
    }
   ],
   "source": [
    "# seems that there are quite a few scenes in 2021 that have pretty good cloud coverage\n",
    "for scene in scene_dict.keys():\n",
    "    print(scene, len(scene_dict[scene]))"
   ]
  },
  {
   "cell_type": "code",
   "execution_count": 10,
   "id": "9bc0193a",
   "metadata": {},
   "outputs": [
    {
     "name": "stdout",
     "output_type": "stream",
     "text": [
      "Downloading scenes in 2021.\n",
      "Attempting to download LC08_L2SP_113037_20211120_20211130_02_T1\n",
      "Download failed with dataset id 1 of 3. Re-trying with the next one.\n"
     ]
    },
    {
     "name": "stderr",
     "output_type": "stream",
     "text": [
      "100%|███████████████████████████████████████████████████████████████████████████████| 734M/734M [01:12<00:00, 10.6MB/s]\n"
     ]
    },
    {
     "name": "stdout",
     "output_type": "stream",
     "text": [
      "None of the archived ids succeeded! Update necessary!\n",
      "LC08_L2SP_113037_20211120_20211130_02_T1 may have failed to download! Check to be sure.\n",
      "Attempting to download LC08_L2SP_113037_20211003_20211013_02_T1\n",
      "Download failed with dataset id 1 of 3. Re-trying with the next one.\n"
     ]
    },
    {
     "name": "stderr",
     "output_type": "stream",
     "text": [
      "100%|███████████████████████████████████████████████████████████████████████████████| 726M/726M [01:13<00:00, 10.3MB/s]\n"
     ]
    },
    {
     "name": "stdout",
     "output_type": "stream",
     "text": [
      "None of the archived ids succeeded! Update necessary!\n",
      "LC08_L2SP_113037_20211003_20211013_02_T1 may have failed to download! Check to be sure.\n",
      "Attempting to download LC08_L2SP_113037_20210104_20210308_02_T1\n",
      "Download failed with dataset id 1 of 3. Re-trying with the next one.\n"
     ]
    },
    {
     "name": "stderr",
     "output_type": "stream",
     "text": [
      "100%|███████████████████████████████████████████████████████████████████████████████| 713M/713M [01:15<00:00, 9.92MB/s]\n"
     ]
    },
    {
     "name": "stdout",
     "output_type": "stream",
     "text": [
      "None of the archived ids succeeded! Update necessary!\n",
      "LC08_L2SP_113037_20210104_20210308_02_T1 may have failed to download! Check to be sure.\n",
      "Attempting to download LC08_L2SP_113037_20210221_20210303_02_T1\n",
      "Download failed with dataset id 1 of 3. Re-trying with the next one.\n"
     ]
    },
    {
     "name": "stderr",
     "output_type": "stream",
     "text": [
      "100%|███████████████████████████████████████████████████████████████████████████████| 737M/737M [01:24<00:00, 9.15MB/s]\n"
     ]
    },
    {
     "name": "stdout",
     "output_type": "stream",
     "text": [
      "None of the archived ids succeeded! Update necessary!\n",
      "LC08_L2SP_113037_20210221_20210303_02_T1 may have failed to download! Check to be sure.\n",
      "Attempting to download LC08_L2SP_113037_20211222_20211230_02_T1\n",
      "Download failed with dataset id 1 of 3. Re-trying with the next one.\n"
     ]
    },
    {
     "name": "stderr",
     "output_type": "stream",
     "text": [
      "762MB [01:26, 9.29MB/s]                                                                                                \n"
     ]
    },
    {
     "name": "stdout",
     "output_type": "stream",
     "text": [
      "None of the archived ids succeeded! Update necessary!\n",
      "LC08_L2SP_113037_20211222_20211230_02_T1 may have failed to download! Check to be sure.\n",
      "Attempting to download LC08_L2SP_113037_20210325_20210402_02_T1\n",
      "Download failed with dataset id 1 of 3. Re-trying with the next one.\n"
     ]
    },
    {
     "name": "stderr",
     "output_type": "stream",
     "text": [
      "744MB [01:20, 9.73MB/s]                                                                                                \n"
     ]
    },
    {
     "name": "stdout",
     "output_type": "stream",
     "text": [
      "None of the archived ids succeeded! Update necessary!\n",
      "LC08_L2SP_113037_20210325_20210402_02_T1 may have failed to download! Check to be sure.\n",
      "Attempting to download LC08_L2SP_113037_20210120_20210307_02_T1\n",
      "Download failed with dataset id 1 of 3. Re-trying with the next one.\n"
     ]
    },
    {
     "name": "stderr",
     "output_type": "stream",
     "text": [
      "100%|███████████████████████████████████████████████████████████████████████████████| 759M/759M [01:12<00:00, 11.0MB/s]\n"
     ]
    },
    {
     "name": "stdout",
     "output_type": "stream",
     "text": [
      "None of the archived ids succeeded! Update necessary!\n",
      "LC08_L2SP_113037_20210120_20210307_02_T1 may have failed to download! Check to be sure.\n"
     ]
    }
   ],
   "source": [
    "from landsatxplore.earthexplorer import EarthExplorer\n",
    "\n",
    "# Sign in to earthexplorer\n",
    "ee = EarthExplorer(\"pinnacle55\", \"KM89xq6rSRZ6zJP\")\n",
    "\n",
    "print(f\"Downloading scenes in 2021.\")\n",
    "\n",
    "scene_count = 0\n",
    "\n",
    "for scene in scene_dict['2021']:     \n",
    "\n",
    "#         # Uncomment if you need a limit on number of scenes per year\n",
    "#         # Limit downloads to 5 scenes\n",
    "#         # Scenes are sorted from lowest to highest cloud_cover, so limiting the scenes should be alright\n",
    "#         if scene_count >= 5:\n",
    "#             break\n",
    "\n",
    "    print(f\"Attempting to download {scene['display_id']}\")\n",
    "\n",
    "    # note that the appears to be an issue where the program will claim that the download failed but \n",
    "    # it actually succeeded - despite this the program will throw an error and the script will not\n",
    "    # continue. As a workaround use a try except block to continue the loop despite the error being \n",
    "    # thrown.\n",
    "    try:\n",
    "        # be wary - for some reason, landsat_product_id gives the L1TP products\n",
    "        # but display_id gives the L2SP products\n",
    "        # choose the product you want carefully  \n",
    "        ee.download(scene['display_id'], output_dir = os.getcwd())\n",
    "    except:\n",
    "        print(f\"{scene['display_id']} may have failed to download! Check to be sure.\")\n",
    "        continue\n",
    "\n",
    "    # if the file was downloaded successfully, add to scene_count\n",
    "\n",
    "    if os.path.exists(os.path.join(os.getcwd(), f\"{scene['display_id']}.tar\")):\n",
    "        print(f\"{scene['display_id']} downloaded successfully!\")\n",
    "        scene_count += 1\n",
    "\n",
    "ee.logout()"
   ]
  },
  {
   "cell_type": "code",
   "execution_count": 16,
   "id": "3b639c35",
   "metadata": {},
   "outputs": [],
   "source": [
    "### Code to set up a bunch of folders in for data download\n",
    "# base_dir = \"./data_collated\"\n",
    "\n",
    "# years = range(2013, 2023)\n",
    "\n",
    "# for year in years:\n",
    "#     year_folder = os.path.join(base_dir, str(year))\n",
    "#     if not os.path.exists(year_folder):\n",
    "#         os.mkdir(year_folder)"
   ]
  },
  {
   "cell_type": "code",
   "execution_count": 8,
   "id": "b28339e3",
   "metadata": {},
   "outputs": [
    {
     "name": "stdout",
     "output_type": "stream",
     "text": [
      "LC08_L2SP_125059_20210703_20210712_02_T1\n",
      "LC08_L2SP_125059_20210601_20210608_02_T1\n",
      "LC08_L2SP_125059_20210313_20210318_02_T1\n"
     ]
    }
   ],
   "source": [
    "existing_scenes = os.listdir(\"./data\")\n",
    "\n",
    "scenes_to_dl = []\n",
    "\n",
    "for scene in scenes:\n",
    "    # be wary - for some reason, landsat_product_id gives the L1TP products\n",
    "    # but display_id gives the L2SP products\n",
    "    # choose the product you want carefully\n",
    "    product_id = scene['display_id']\n",
    "    if product_id not in existing_scenes:\n",
    "        scenes_to_dl.append(product_id)"
   ]
  },
  {
   "cell_type": "code",
   "execution_count": null,
   "id": "63f02766",
   "metadata": {},
   "outputs": [],
   "source": []
  }
 ],
 "metadata": {
  "kernelspec": {
   "display_name": "Python [conda env:landsat]",
   "language": "python",
   "name": "conda-env-landsat-py"
  },
  "language_info": {
   "codemirror_mode": {
    "name": "ipython",
    "version": 3
   },
   "file_extension": ".py",
   "mimetype": "text/x-python",
   "name": "python",
   "nbconvert_exporter": "python",
   "pygments_lexer": "ipython3",
   "version": "3.11.5"
  },
  "varInspector": {
   "cols": {
    "lenName": 16,
    "lenType": 16,
    "lenVar": 40
   },
   "kernels_config": {
    "python": {
     "delete_cmd_postfix": "",
     "delete_cmd_prefix": "del ",
     "library": "var_list.py",
     "varRefreshCmd": "print(var_dic_list())"
    },
    "r": {
     "delete_cmd_postfix": ") ",
     "delete_cmd_prefix": "rm(",
     "library": "var_list.r",
     "varRefreshCmd": "cat(var_dic_list()) "
    }
   },
   "types_to_exclude": [
    "module",
    "function",
    "builtin_function_or_method",
    "instance",
    "_Feature"
   ],
   "window_display": false
  }
 },
 "nbformat": 4,
 "nbformat_minor": 5
}
