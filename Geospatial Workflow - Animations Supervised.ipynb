{
 "cells": [
  {
   "cell_type": "code",
   "execution_count": 129,
   "id": "59361062",
   "metadata": {},
   "outputs": [],
   "source": [
    "### This script attempts to conduct supervised machine learning on 10 years’ \n",
    "# worth of LANDSAT data with the aim of creating an animation that shows land use change over time. \n",
    "\n",
    "# The following module provides an automated way of downloading LANDSAT imagery from earth explorer\n",
    "# – almost certainly worth exploring for future projects\n",
    "# https://github.com/yannforget/landsatxplore\n",
    "\n",
    "# For this script you'll need a shape file containing polygons that have been classified \n",
    "# according to their land use. These polygons can either be ground truth (i.e., information \n",
    "# taken from governmental websites or other research institutions) or you can manually \n",
    "# classify land use in the study area using Google Earth. \n",
    "\n",
    "import rasterio as rio\n",
    "from rasterio.plot import show\n",
    "import geopandas as gpd\n",
    "import numpy as np\n",
    "import matplotlib.pyplot as plt\n",
    "import folium\n",
    "import os\n",
    "import fnmatch\n",
    "import sys\n",
    "from TOA_reflectance_stacker import histogram_stretch\n",
    "from tqdm import tqdm\n",
    "import earthpy.plot as ep\n",
    "import shapely\n",
    "from matplotlib.colors import ListedColormap"
   ]
  },
  {
   "cell_type": "code",
   "execution_count": 130,
   "id": "130c0d96",
   "metadata": {},
   "outputs": [
    {
     "data": {
      "text/plain": [
       "['LC08_L1TP_113037_20140423_20200911_02_T1_TOA_STACKED_CROPPED.tif',\n",
       " 'LC08_L1TP_113037_20151019_20200908_02_T1_TOA_STACKED_CROPPED.tif',\n",
       " 'LC08_L1TP_113037_20160514_20200907_02_T1_TOA_STACKED_CROPPED.tif',\n",
       " 'LC08_L1TP_113037_20180317_20200901_02_T1_TOA_STACKED_CROPPED.tif',\n",
       " 'LC08_L1TP_113037_20180808_20200831_02_T1_TOA_STACKED_CROPPED.tif',\n",
       " 'LC08_L1TP_113037_20190507_20200829_02_T1_TOA_STACKED_CROPPED.tif',\n",
       " 'LC08_L1TP_113037_20200306_20200822_02_T1_TOA_STACKED_CROPPED.tif',\n",
       " 'LC08_L1TP_113037_20211120_20211130_02_T1_TOA_STACKED_CROPPED.tif',\n",
       " 'LC08_L1TP_113037_20230502_20230509_02_T1_TOA_STACKED_CROPPED.tif']"
      ]
     },
     "execution_count": 130,
     "metadata": {},
     "output_type": "execute_result"
    }
   ],
   "source": [
    "# Get the current directory\n",
    "current_directory = os.getcwd()\n",
    "\n",
    "# List all files in the directory\n",
    "all_files = os.listdir(current_directory)\n",
    "\n",
    "# Filter files that contain \"STACKED_CROPPED\" in their filename\n",
    "filtered_files = [filename for filename in all_files if \"STACKED_CROPPED\" in filename]\n",
    "\n",
    "# these files are automatically sorted by date acquired (filenaming conventions) from oldest\n",
    "# to youngest\n",
    "filtered_files"
   ]
  },
  {
   "cell_type": "code",
   "execution_count": 131,
   "id": "46cc51b6",
   "metadata": {},
   "outputs": [],
   "source": [
    "# Plot the true color composite of the study area as well as the classified polygons that \n",
    "# will be used as the training data\n",
    "\n",
    "src = rio.open(filtered_files[-1])\n",
    "tcc = src.read([4,3,2])\n",
    "\n",
    "training_polygons = gpd.read_file(\"Supervised Land Use Updated.geojson\")\n",
    "\n",
    "fig, ax = plt.subplots()\n",
    "\n",
    "# Note that we have to use rasterio show here rather than ax.imshow because the training \n",
    "# polygons are plotted using coordinates. Furthermore note that the histogram stretch function \n",
    "# returns a numpy array; thus you need to provide a transform argument in order to convert that \n",
    "# numpy array into coordinates\n",
    "show(histogram_stretch(tcc, 0, 99), ax = ax, transform = src.transform)\n",
    "training_polygons.plot(column = \"LULC\", ax = ax)\n",
    "src.close()"
   ]
  },
  {
   "cell_type": "code",
   "execution_count": 55,
   "id": "ccd4d29f",
   "metadata": {},
   "outputs": [
    {
     "data": {
      "text/plain": [
       "True"
      ]
     },
     "execution_count": 55,
     "metadata": {},
     "output_type": "execute_result"
    }
   ],
   "source": [
    "# it is very important to make sure that the CRS of your raster and shapefiles are the same\n",
    "# There are a lot of geopandas and rasterio functions that will straight up not work if the \n",
    "# two files are not in the same CRS\n",
    "training_polygons.crs == src.crs"
   ]
  },
  {
   "cell_type": "code",
   "execution_count": 107,
   "id": "c855467e",
   "metadata": {},
   "outputs": [],
   "source": [
    "# We now need to get the band data from the raster image based on the training polygons\n",
    "\n",
    "# To prep the data for ML analysis, we need two numpy arrays:\n",
    "# X: a numpy array that contains all of the band data for the pixel\n",
    "# y: the labels for training\n",
    "X = np.array([], dtype = np.float32).reshape(0,10) # Create an array with 10 columns and 0 rows\n",
    "                                                  # we're gonna stack new pixels inside\n",
    "y = np.array([], dtype = np.string_) # labels for training\n",
    "\n",
    "# train May 2023 data\n",
    "with rio.open(filtered_files[-1]) as src:\n",
    "    band_count = src.count\n",
    "    band_id = src.descriptions\n",
    "    \n",
    "    # Iterate\n",
    "    for index, row in training_polygons.iterrows():\n",
    "        feature = [row[\"geometry\"]]\n",
    "        \n",
    "        # crop the image - mask function returns a tuple\n",
    "        out_image, out_transform = rio.mask.mask(src, feature, crop = True)\n",
    "        \n",
    "        # out_image has a shape (7, height, width)\n",
    "        \n",
    "        # Since this returns a rectangular array, and our shape is not rectangular, there will be\n",
    "        # a bunch of nans - get rid of them.\n",
    "        \n",
    "        # note that this gets rid of any column that has ANY nans\n",
    "        # The following code returns a row for each band, with each column representing a pixel\n",
    "        out_image_trimmed = out_image[:, ~np.any(np.isnan(out_image), axis = 0)]\n",
    "        \n",
    "        # We actually want this the other way around - we want a row for pixel, and a column for each\n",
    "        # band - so we transpose the image\n",
    "        out_image_trimmed = out_image_trimmed.T\n",
    "        \n",
    "        # We append the labels to the answer array equal to the number of pixels:\n",
    "        # Remember to put brackets around the row[\"LULC\"], or else you'll get \"forestforestforest\"\n",
    "        y = np.append(y, [row[\"LULC\"]] * out_image_trimmed.shape[0])\n",
    "        \n",
    "        # vstack is like concat for rows. Note that to vstack correctly, the array tuple that you feed\n",
    "        # to vstack must have the same column dimension\n",
    "        X = np.vstack((X, out_image_trimmed))\n",
    "\n",
    "src.close()"
   ]
  },
  {
   "cell_type": "code",
   "execution_count": 108,
   "id": "28c74edf",
   "metadata": {},
   "outputs": [
    {
     "name": "stdout",
     "output_type": "stream",
     "text": [
      "(58663, 10)\n",
      "(58663,)\n"
     ]
    }
   ],
   "source": [
    "### Check if it worked correctly: Two arrays should have the same number of rows/columns\n",
    "print(X.shape)\n",
    "print(y.shape)\n",
    "\n",
    "# We need to scale the data: remember, thermal emissivity data is not on the same scale as \n",
    "# TOA reflectance data\n",
    "\n",
    "# In some cases we may need to scale the data - this depends on the supervised machine learning\n",
    "# model that we intend to use: some machine learning models do not require scaling such as naive \n",
    "# bayes as well as random forest, while others do require scaling, such as linear regression\n",
    "\n",
    "from sklearn.preprocessing import StandardScaler\n",
    "scaler = StandardScaler()\n",
    "X = scaler.fit_transform(X)"
   ]
  },
  {
   "cell_type": "code",
   "execution_count": 109,
   "id": "a8bd78e2",
   "metadata": {},
   "outputs": [
    {
     "data": {
      "text/plain": [
       "<matplotlib.legend.Legend at 0x2b723f932e0>"
      ]
     },
     "execution_count": 109,
     "metadata": {},
     "output_type": "execute_result"
    }
   ],
   "source": [
    "# We can now check what each of the four different classifications looks like based on their band data\n",
    "\n",
    "fig, ax = plt.subplots()\n",
    "\n",
    "for landuse in np.unique(y):\n",
    "    ax.plot(np.arange(1,11), np.mean(X[y == landuse, :], axis = 0), label = landuse)\n",
    "\n",
    "# We can see that cropland and urban areas have very similar distributions across the \n",
    "# different bands - this suggests that there may be cases where cropland and urban areas are\n",
    "# misclassified as each other\n",
    "ax.set_xticks(np.arange(1,11))\n",
    "ax.set_xticklabels(src.descriptions, rotation = 90)\n",
    "ax.legend()"
   ]
  },
  {
   "cell_type": "code",
   "execution_count": 119,
   "id": "d4d10f6f",
   "metadata": {},
   "outputs": [
    {
     "name": "stdout",
     "output_type": "stream",
     "text": [
      "[0.44235623 0.7889859  0.9293961  0.97979605 0.9921303  0.9980958\n",
      " 0.9992605  0.99966955 0.99991924 0.9999999 ]\n"
     ]
    },
    {
     "data": {
      "text/plain": [
       "[<matplotlib.lines.Line2D at 0x2b7245bf8e0>]"
      ]
     },
     "execution_count": 119,
     "metadata": {},
     "output_type": "execute_result"
    },
    {
     "data": {
      "image/png": "[encoded data removed]",
      "text/plain": [
       "<Figure size 640x480 with 1 Axes>"
      ]
     },
     "metadata": {},
     "output_type": "display_data"
    }
   ],
   "source": [
    "# We can try PCA to reduce the number of features in order to increase the speed at which we process \n",
    "# the data\n",
    "%matplotlib inline\n",
    "\n",
    "from sklearn.decomposition import PCA\n",
    "\n",
    "pca = PCA()\n",
    "\n",
    "# fit the PCA model on X\n",
    "pca.fit(X)\n",
    "\n",
    "# The graph shows the percentage of variance explained by each principal component - we can see\n",
    "# that we only really need about 5 features to explain 99% of the data\n",
    "print(np.cumsum(pca.explained_variance_ratio_))\n",
    "plt.plot(np.arange(1, len(pca.explained_variance_ratio_)+1), np.cumsum(pca.explained_variance_ratio_))"
   ]
  },
  {
   "cell_type": "code",
   "execution_count": 99,
   "id": "6f0dd1e5",
   "metadata": {},
   "outputs": [
    {
     "data": {
      "text/html": [
       "<style>#sk-container-id-6 {color: black;}#sk-container-id-6 pre{padding: 0;}#sk-container-id-6 div.sk-toggleable {background-color: white;}#sk-container-id-6 label.sk-toggleable__label {cursor: pointer;display: block;width: 100%;margin-bottom: 0;padding: 0.3em;box-sizing: border-box;text-align: center;}#sk-container-id-6 label.sk-toggleable__label-arrow:before {content: \"▸\";float: left;margin-right: 0.25em;color: #696969;}#sk-container-id-6 label.sk-toggleable__label-arrow:hover:before {color: black;}#sk-container-id-6 div.sk-estimator:hover label.sk-toggleable__label-arrow:before {color: black;}#sk-container-id-6 div.sk-toggleable__content {max-height: 0;max-width: 0;overflow: hidden;text-align: left;background-color: #f0f8ff;}#sk-container-id-6 div.sk-toggleable__content pre {margin: 0.2em;color: black;border-radius: 0.25em;background-color: #f0f8ff;}#sk-container-id-6 input.sk-toggleable__control:checked~div.sk-toggleable__content {max-height: 200px;max-width: 100%;overflow: auto;}#sk-container-id-6 input.sk-toggleable__control:checked~label.sk-toggleable__label-arrow:before {content: \"▾\";}#sk-container-id-6 div.sk-estimator input.sk-toggleable__control:checked~label.sk-toggleable__label {background-color: #d4ebff;}#sk-container-id-6 div.sk-label input.sk-toggleable__control:checked~label.sk-toggleable__label {background-color: #d4ebff;}#sk-container-id-6 input.sk-hidden--visually {border: 0;clip: rect(1px 1px 1px 1px);clip: rect(1px, 1px, 1px, 1px);height: 1px;margin: -1px;overflow: hidden;padding: 0;position: absolute;width: 1px;}#sk-container-id-6 div.sk-estimator {font-family: monospace;background-color: #f0f8ff;border: 1px dotted black;border-radius: 0.25em;box-sizing: border-box;margin-bottom: 0.5em;}#sk-container-id-6 div.sk-estimator:hover {background-color: #d4ebff;}#sk-container-id-6 div.sk-parallel-item::after {content: \"\";width: 100%;border-bottom: 1px solid gray;flex-grow: 1;}#sk-container-id-6 div.sk-label:hover label.sk-toggleable__label {background-color: #d4ebff;}#sk-container-id-6 div.sk-serial::before {content: \"\";position: absolute;border-left: 1px solid gray;box-sizing: border-box;top: 0;bottom: 0;left: 50%;z-index: 0;}#sk-container-id-6 div.sk-serial {display: flex;flex-direction: column;align-items: center;background-color: white;padding-right: 0.2em;padding-left: 0.2em;position: relative;}#sk-container-id-6 div.sk-item {position: relative;z-index: 1;}#sk-container-id-6 div.sk-parallel {display: flex;align-items: stretch;justify-content: center;background-color: white;position: relative;}#sk-container-id-6 div.sk-item::before, #sk-container-id-6 div.sk-parallel-item::before {content: \"\";position: absolute;border-left: 1px solid gray;box-sizing: border-box;top: 0;bottom: 0;left: 50%;z-index: -1;}#sk-container-id-6 div.sk-parallel-item {display: flex;flex-direction: column;z-index: 1;position: relative;background-color: white;}#sk-container-id-6 div.sk-parallel-item:first-child::after {align-self: flex-end;width: 50%;}#sk-container-id-6 div.sk-parallel-item:last-child::after {align-self: flex-start;width: 50%;}#sk-container-id-6 div.sk-parallel-item:only-child::after {width: 0;}#sk-container-id-6 div.sk-dashed-wrapped {border: 1px dashed gray;margin: 0 0.4em 0.5em 0.4em;box-sizing: border-box;padding-bottom: 0.4em;background-color: white;}#sk-container-id-6 div.sk-label label {font-family: monospace;font-weight: bold;display: inline-block;line-height: 1.2em;}#sk-container-id-6 div.sk-label-container {text-align: center;}#sk-container-id-6 div.sk-container {/* jupyter's `normalize.less` sets `[hidden] { display: none; }` but bootstrap.min.css set `[hidden] { display: none !important; }` so we also need the `!important` here to be able to override the default hidden behavior on the sphinx rendered scikit-learn.org. See: https://github.com/scikit-learn/scikit-learn/issues/21755 */display: inline-block !important;position: relative;}#sk-container-id-6 div.sk-text-repr-fallback {display: none;}</style><div id=\"sk-container-id-6\" class=\"sk-top-container\"><div class=\"sk-text-repr-fallback\"><pre>GaussianNB()</pre><b>In a Jupyter environment, please rerun this cell to show the HTML representation or trust the notebook. <br />On GitHub, the HTML representation is unable to render, please try loading this page with nbviewer.org.</b></div><div class=\"sk-container\" hidden><div class=\"sk-item\"><div class=\"sk-estimator sk-toggleable\"><input class=\"sk-toggleable__control sk-hidden--visually\" id=\"sk-estimator-id-6\" type=\"checkbox\" checked><label for=\"sk-estimator-id-6\" class=\"sk-toggleable__label sk-toggleable__label-arrow\">GaussianNB</label><div class=\"sk-toggleable__content\"><pre>GaussianNB()</pre></div></div></div></div></div>"
      ],
      "text/plain": [
       "GaussianNB()"
      ]
     },
     "execution_count": 99,
     "metadata": {},
     "output_type": "execute_result"
    }
   ],
   "source": [
    "# We can now train our supervised learning model – we'll start with an extremely simple \n",
    "# gaussian naive bayes model\n",
    "from sklearn.naive_bayes import GaussianNB\n",
    "\n",
    "# This one has no hyperparameters\n",
    "gnb = GaussianNB()\n",
    "gnb.fit(X, y)"
   ]
  },
  {
   "cell_type": "code",
   "execution_count": 132,
   "id": "87ba7ae3",
   "metadata": {},
   "outputs": [
    {
     "data": {
      "text/plain": [
       "<matplotlib.legend.Legend at 0x2b7249adac0>"
      ]
     },
     "execution_count": 132,
     "metadata": {},
     "output_type": "execute_result"
    }
   ],
   "source": [
    "# All of the above steps can actually be combined into a single Pipeline object available in sklearn\n",
    "# https://scikit-learn.org/stable/modules/generated/sklearn.pipeline.make_pipeline.html#sklearn.pipeline.make_pipeline\n",
    "from sklearn.pipeline import make_pipeline\n",
    "\n",
    "# Pipelines are extremely useful for sending your data through a preprocessing pipeline and out into \n",
    "# a model. You instantiate A pipeline object using the make_pipeline function, you then pass it \n",
    "# several objects that have a fit_transform function, such as standard scaler or PCA. The final \n",
    "# object in the pipeline should be a model, in other words an object that has a fit_predict method.\n",
    "# Then, when you run pipeline.fit_predict(X, y), the pipeline will feed X through all of the objects \n",
    "# that you specified in the pipeline. Note that you cannot have multiple estimators in a pipeline \n",
    "\n",
    "# pipeline = make_pipeline(StandardScaler(), PCA(n_components = 5), GaussianNB(priors=None))\n",
    "pipeline = make_pipeline(StandardScaler(), GaussianNB(priors=None))\n",
    "\n",
    "# To prep the data for ML analysis, we need two numpy arrays:\n",
    "# X: a numpy array that contains all of the band data for the pixel\n",
    "# y: the labels for training\n",
    "X = np.array([], dtype = np.float32).reshape(0,10) # Create an array with 10 columns and 0 rows\n",
    "                                                  # we're gonna stack new pixels inside\n",
    "y = np.array([], dtype = np.string_) # labels for training\n",
    "\n",
    "# train May 2023 data\n",
    "with rio.open(filtered_files[-1]) as src:\n",
    "    band_count = src.count\n",
    "    band_id = src.descriptions\n",
    "    \n",
    "    # Iterate\n",
    "    for index, row in training_polygons.iterrows():\n",
    "        feature = [row[\"geometry\"]]\n",
    "        \n",
    "        # crop the image - mask function returns a tuple\n",
    "        out_image, out_transform = rio.mask.mask(src, feature, crop = True)\n",
    "        \n",
    "        # out_image has a shape (7, height, width)\n",
    "        \n",
    "        # Since this returns a rectangular array, and our shape is not rectangular, there will be\n",
    "        # a bunch of nans - get rid of them.\n",
    "        \n",
    "        # note that this gets rid of any column that has ANY nans\n",
    "        # The following code returns a row for each band, with each column representing a pixel\n",
    "        out_image_trimmed = out_image[:, ~np.any(np.isnan(out_image), axis = 0)]\n",
    "        \n",
    "        # We actually want this the other way around - we want a row for pixel, and a column for each\n",
    "        # band - so we transpose the image\n",
    "        out_image_trimmed = out_image_trimmed.T\n",
    "        \n",
    "        # We append the labels to the answer array equal to the number of pixels:\n",
    "        # Remember to put brackets around the row[\"LULC\"], or else you'll get \"forestforestforest\"\n",
    "        y = np.append(y, [row[\"LULC\"]] * out_image_trimmed.shape[0])\n",
    "        \n",
    "        # vstack is like concat for rows. Note that to vstack correctly, the array tuple that you feed\n",
    "        # to vstack must have the same column dimension\n",
    "        X = np.vstack((X, out_image_trimmed))\n",
    "\n",
    "src.close()\n",
    "\n",
    "# We can then fit our X_train and y_train data using th above pipeline\n",
    "pipeline.fit(X, y)"
   ]
  },
  {
   "cell_type": "code",
   "execution_count": 133,
   "id": "022afccf",
   "metadata": {},
   "outputs": [],
   "source": [
    "# Train on May 2023\n",
    "src = rio.open(filtered_files[-1])\n",
    "\n",
    "dataset = src.read()\n",
    "src.close()\n",
    "\n",
    "# reshape the data from the entire dataset:\n",
    "height = dataset.shape[1]\n",
    "width = dataset.shape[2]\n",
    "\n",
    "new_shape = (height * width, dataset.shape[0])\n",
    "# swap axes and reshape\n",
    "X_test = dataset.swapaxes(0,2).reshape(new_shape)\n",
    "\n",
    "# scale and fir the data - note that we do not use \"fit\" since our models are already trained\n",
    "# X_test = scaler.transform(X_test)\n",
    "# y_test = gnb.predict(X_test)\n",
    "y_test = pipeline.predict(X_test)\n",
    "\n",
    "# Reshape back into a 2D array\n",
    "y_test = y_test.reshape(width, height).T"
   ]
  },
  {
   "cell_type": "code",
   "execution_count": 134,
   "id": "493afc12",
   "metadata": {},
   "outputs": [],
   "source": [
    "# Use this to transform our nagasaki_reshaped (which has a bunch fo string labels) into integers\n",
    "\n",
    "lulc_dict = dict((\n",
    "    (\"Urban\", 0),\n",
    "    (\"Cropland\", 1),\n",
    "    (\"Forest\", 2),\n",
    "    (\"Water\", 3),\n",
    "    (\"Bare Land\", 4),\n",
    "))\n",
    "\n",
    "# Invert dictionary\n",
    "inv_dict = {v: k for k, v in lulc_dict.items()}\n",
    "\n",
    "# apparently faster - returns unique values as well as the indices that can be used to reconstruct\n",
    "# the array\n",
    "u, inv = np.unique(y_test, return_inverse = True)\n",
    "y_labels = np.array([lulc_dict[x] for x in u])[inv].reshape(y_test.shape)"
   ]
  },
  {
   "cell_type": "code",
   "execution_count": 135,
   "id": "5bea26fe",
   "metadata": {},
   "outputs": [],
   "source": [
    "# Set up dictionary for color map\n",
    "colors = dict((\n",
    "    (0, \"grey\"),   # Urban \n",
    "    (1, \"xkcd:lime green\"),      # Cropland \n",
    "    (2, \"green\"),    # Forest \n",
    "    (3, \"blue\"),   # Water \n",
    "    (4, \"xkcd:brown\")\n",
    "))\n",
    "\n",
    "cmap = ListedColormap([colors[key] for key in colors], name = \"LULC\")"
   ]
  },
  {
   "cell_type": "code",
   "execution_count": 136,
   "id": "9d6746ff",
   "metadata": {},
   "outputs": [],
   "source": [
    "%matplotlib qt5\n",
    "\n",
    "# We can use the results of our supervised machine learning model to refine our training polygons\n",
    "\n",
    "# So far the classification looks good – however, it is important to note that different LANDSAT \n",
    "# images were taken under different atmospheric conditions; consequently, there may be issues in \n",
    "# other scenes especially since we know that bare land and cropland have very similar spectral \n",
    "# signatures\n",
    "fig, ax = plt.subplots(1,2, figsize = (20,10))\n",
    "i = ax[1].imshow(y_labels, cmap = cmap, interpolation = \"nearest\")\n",
    "ax[0].imshow(rio.plot.reshape_as_image(histogram_stretch(dataset[[3,2,1],:,:], 0, 99)))\n",
    "ep.draw_legend(im_ax = i, titles = [inv_dict[key] for key in np.unique(y_labels)], cmap = cmap)\n",
    "plt.tight_layout()"
   ]
  },
  {
   "cell_type": "code",
   "execution_count": 137,
   "id": "f1991e50",
   "metadata": {},
   "outputs": [
    {
     "data": {
      "text/plain": [
       "['23 April 2014',\n",
       " '19 October 2015',\n",
       " '14 May 2016',\n",
       " '17 March 2018',\n",
       " '08 August 2018',\n",
       " '07 May 2019',\n",
       " '06 March 2020',\n",
       " '20 November 2021',\n",
       " '02 May 2023']"
      ]
     },
     "execution_count": 137,
     "metadata": {},
     "output_type": "execute_result"
    }
   ],
   "source": [
    "# We can now attempt to conduct this workflow on the time-series data.\n",
    "from datetime import datetime\n",
    "\n",
    "# first, let's create a list of dates from the filenames\n",
    "# This code is a bit long winded but all it's doing is reformatting the dates from the filenames\n",
    "# into more human-readable dates\n",
    "dates = [datetime.strptime(filename.split(\"_\")[3], '%Y%m%d').strftime('%d %B %Y') for filename in filtered_files]\n",
    "\n",
    "dates"
   ]
  },
  {
   "cell_type": "code",
   "execution_count": 139,
   "id": "62c7e4bb",
   "metadata": {},
   "outputs": [
    {
     "name": "stderr",
     "output_type": "stream",
     "text": [
      "9it [01:37, 10.84s/it]\n"
     ]
    }
   ],
   "source": [
    "# Let's do the same thing we did with our unsupervised machine learning script and create an \n",
    "# animation that shows the evolution of land use over time\n",
    "\n",
    "# Create a dictionary to store the data\n",
    "data_dict = {}\n",
    "\n",
    "# For each cropped file, get the classified data\n",
    "for i, filename in tqdm(enumerate(filtered_files)):\n",
    "    src = rio.open(filename)\n",
    "    data = src.read()\n",
    "    src.close()\n",
    "    \n",
    "    # To be honest this should be the same for all rasters, but include just in case you're\n",
    "    # using rasters of different dimensions for some reason\n",
    "    height = data.shape[1]\n",
    "    width = data.shape[2]\n",
    "    new_shape = (height * width, data.shape[0])\n",
    "\n",
    "    # swap axes and reshape\n",
    "    X_test = data.swapaxes(0,2).reshape(new_shape)\n",
    "    \n",
    "    # Scale, conduct PCA, and predict\n",
    "    y_test = pipeline.predict(X_test)\n",
    "    \n",
    "    y_test = y_test.reshape(width, height).T\n",
    "    \n",
    "    # Convert strings into integers\n",
    "    u, inv = np.unique(y_test, return_inverse = True)\n",
    "    y_labels = np.array([lulc_dict[x] for x in u])[inv].reshape(y_test.shape)\n",
    "    \n",
    "    # Store only the histogram stretched raster data – the only thing we use this data for is to\n",
    "    # visualize the true color composite of the scene, so we get rid of all the other bands to be\n",
    "    # memory efficient - Yup, pca saves about 2 seconds per iteration, but the results are significantly\n",
    "    # worse\n",
    "    data_dict[dates[i]] = (histogram_stretch(data[[3,2,1],:,:],0,99), y_labels)"
   ]
  },
  {
   "cell_type": "code",
   "execution_count": 140,
   "id": "29e0a9bb",
   "metadata": {},
   "outputs": [],
   "source": [
    "# note that supervised machine learning takes a lot longer than unsupervised machine learning \n",
    "# – one way of speeding this up is to conduct PCA on the bands in order to reduce the number of \n",
    "# features\n",
    "\n",
    "# Create a figure and axis for the animation\n",
    "# Please see Geospatial Workflow – Animations for a more in depth explanation of how the \n",
    "# FuncAnimation class works\n",
    "%matplotlib qt5\n",
    "from matplotlib.animation import FuncAnimation\n",
    "\n",
    "fig, ax = plt.subplots(1, 2, figsize = (20,10))\n",
    "\n",
    "# Initialize an image plot containing the first frame\n",
    "tcc_plot = ax[0].imshow(rio.plot.reshape_as_image(data_dict[dates[0]][0]))\n",
    "lulc_plot = ax[1].imshow(data_dict[dates[0]][1], cmap = cmap, interpolation = \"nearest\")\n",
    "\n",
    "# turn off axes for visual clarity\n",
    "ax[0].axis(\"off\")\n",
    "ax[1].axis(\"off\")\n",
    "\n",
    "def update(frame):\n",
    "    date = dates[frame]\n",
    "    \n",
    "    # load the image from the dictionary\n",
    "    tcc_image = rio.plot.reshape_as_image(data_dict[date][0])\n",
    "    lulc_image = data_dict[date][1]\n",
    "    \n",
    "    # set the image onto the figure\n",
    "    tcc_plot.set_data(tcc_image)\n",
    "    lulc_plot.set_data(lulc_image)\n",
    "    \n",
    "    ax[0].set_title(f\"Nagasaki Prefecture Land Use, Gaussian Naive Bayes\\n{date}\", fontsize = 24, \n",
    "                    x = 1, y = 1)\n",
    "\n",
    "# Call the funk animation class with the appropriate arguments. Frames indicates how many\n",
    "# frames there will be IE how many frames will be passed into the `update` function, while\n",
    "# repeat tells matplotlib whether to loop the animation, interval tells FuncAnimation how much time\n",
    "# between frames\n",
    "animation = FuncAnimation(fig, update, frames=len(dates), repeat=True, interval = 2000)\n",
    "plt.tight_layout()\n",
    "\n",
    "# Save the animation\n",
    "animation_file = f'gnb_animation.gif'\n",
    "animation.save(animation_file, writer='pillow')\n",
    "\n",
    "plt.show()"
   ]
  },
  {
   "cell_type": "code",
   "execution_count": 141,
   "id": "e966a82d",
   "metadata": {},
   "outputs": [],
   "source": [
    "# As we can see, supervised learning has issues similar to unsupervised learning, where the \n",
    "# different atmospheric conditions under which the images were taken have a significant effect \n",
    "# on the spectral signatures \n",
    "\n",
    "# Nevertheless it is still useful to generate zonal statistics from rest images in which \n",
    "# atmospheric conditions were relatively similar\n",
    "\n",
    "# By visual inspection it looks like years 2014, 2016, and 2019 had atmospheric conditions were \n",
    "# that were relatively similar to the 2023 dataset. Let's isolate those years and run some zonal \n",
    "# statistics based on Nagasaki's municipal boundaries"
   ]
  },
  {
   "cell_type": "code",
   "execution_count": 147,
   "id": "5f329cba",
   "metadata": {},
   "outputs": [],
   "source": [
    "# The first thing we need to do is write out all of the land use classification numpy arrays into\n",
    "# their own rasters\n",
    "\n",
    "# get profile information from one of the original rasters\n",
    "init_src = rio.open(filtered_files[-1])\n",
    "profile = init_src.profile\n",
    "profile.update(dtype = np.uint8, nodata = 255, count = 1)\n",
    "init_src.close()\n",
    "\n",
    "for date in data_dict.keys():\n",
    "    out_raster = rio.open(\n",
    "        f\"{datetime.strptime(date, '%d %B %Y').strftime('%Y%m%d')}_LULC_GNBClassified.tif\",\n",
    "        \"w\",\n",
    "        **profile\n",
    "    )\n",
    "    \n",
    "    out_raster.write(data_dict[date][1].astype(np.uint8), 1)\n",
    "    out_raster.close()"
   ]
  },
  {
   "cell_type": "code",
   "execution_count": 155,
   "id": "15c0dbb9",
   "metadata": {},
   "outputs": [],
   "source": [
    "import rasterstats\n",
    "import pandas as pd\n",
    "\n",
    "dates_of_interest = [\"20140423\", \"20160514\", \"20190507\", \"20230502\"]\n",
    "\n",
    "# Read in a geodataframe of the boundaries of the municipalities in Nagasaki\n",
    "mun_bounds = gpd.read_file(\"mun_bounds_cleaned.geojson\")\n",
    "\n",
    "for date in dates_of_interest:\n",
    "    # If the targets are a shapefile and a tif, we can use rasterstats to call the actual files\n",
    "    # note that \n",
    "    zonal_lulc_stats = rasterstats.zonal_stats(\n",
    "        \"mun_bounds_cleaned.geojson\",\n",
    "        f\"{date}_LULC_GNBClassified.tif\",\n",
    "        categorical = True,   \n",
    "        category_map = inv_dict\n",
    "    )\n",
    "\n",
    "    # Create list of dictionaries\n",
    "    zonal_lulc_stats = pd.DataFrame(zonal_lulc_stats)\n",
    "    # calculate proportion of forest in each municipality and add it to the mun_bounds df\n",
    "    mun_bounds[f\"{date[:4]}\"] = zonal_lulc_stats.apply(lambda x: x.Forest / np.sum(x), axis = 1)"
   ]
  },
  {
   "cell_type": "code",
   "execution_count": 159,
   "id": "abf3acfd",
   "metadata": {},
   "outputs": [
    {
     "data": {
      "image/png": "[encoded data removed]",
      "text/plain": [
       "<Figure size 1000x1700 with 13 Axes>"
      ]
     },
     "metadata": {},
     "output_type": "display_data"
    }
   ],
   "source": [
    "%matplotlib inline\n",
    "\n",
    "# Calculate the number of rows and columns for the subplot grid\n",
    "num_rows = 6\n",
    "num_cols = 2\n",
    "\n",
    "# Create a new figure and subplot grid\n",
    "# sharex/sharey forces same axes for all plots\n",
    "fig, axs = plt.subplots(num_rows, num_cols, figsize=(10, 17), sharey = True)\n",
    "\n",
    "# Flatten the subplot grid for easier iteration\n",
    "axs = axs.flatten()\n",
    "\n",
    "for index, row in mun_bounds.iterrows():\n",
    "    # Create a bar chart for the current row\n",
    "    # row.index gives the column names\n",
    "    # row.values gives the value of those columns\n",
    "    axs[index].plot(row.index[3:], row.values[3:])\n",
    "                   ### COLOR TYPE 1: VARY COLOURS BASED ON VALUE\n",
    "                   # Give the bar chart colours based on the value of the column\n",
    "                   # e.g., >30% should be red, <10% should be green, etc.\n",
    "                   # Can edit the custome colour scheme above\n",
    "                   # color = cmap(norm(row.values[3:].astype(np.float64))))\n",
    "                   \n",
    "                   ### COLOR TYPE 2: VARY COLOURS BASED ON COLUMN\n",
    "#                    color = cmap(norm(np.linspace(0,5,6))))\n",
    "    # plt.bar(row.index[3:], row.values[3:])\n",
    "    \n",
    "    ## COLORS ##\n",
    "    # Use this to help give barchart colors based on the value \n",
    "    # E.g., if you want 30% to be red or something\n",
    "    # https://saturncloud.io/blog/color-matplotlib-bar-chart-based-on-value-a-guide/\n",
    "\n",
    "    axs[index].set_title(f'Proportion of Forest in {row[\"name:en\"]}')\n",
    "\n",
    "    \n",
    "# Workaround to add common X and Y label\n",
    "fig.add_subplot(111, frameon=False)\n",
    "# hide tick and tick label of the big axis\n",
    "plt.tick_params(labelcolor='none', which='both', top=False, bottom=False, left=False, right=False)\n",
    "plt.xlabel('Years', fontsize = 20)\n",
    "plt.ylabel('Percentage', fontsize = 20)\n",
    "    \n",
    "# Show the bar chart\n",
    "plt.tight_layout()\n",
    "plt.show()"
   ]
  },
  {
   "cell_type": "code",
   "execution_count": 169,
   "id": "5c93a643",
   "metadata": {},
   "outputs": [
    {
     "name": "stderr",
     "output_type": "stream",
     "text": [
      "C:\\Users\\tranq\\AppData\\Local\\Temp\\ipykernel_11124\\412303574.py:23: FutureWarning: plot_polygon_collection is intended for internal use only, and will be deprecated.\n",
      "  artist = gpd.plotting.plot_polygon_collection(ax, geos, forest_prop, cmap=\"Greens\")\n"
     ]
    }
   ],
   "source": [
    "# an alternative way of visualizing this is using an animation \n",
    "%matplotlib qt5\n",
    "from matplotlib.animation import FuncAnimation\n",
    "\n",
    "fig, ax = plt.subplots(figsize = (16,18))\n",
    "ax.axis(\"off\")\n",
    "fontsize = 12\n",
    "\n",
    "ims = []\n",
    "t = []\n",
    "vmin, vmax = 0.2, 0.6\n",
    "\n",
    "def update_fig(frame):\n",
    "    date = dates_of_interest[frame]\n",
    "    \n",
    "    if len(ims) > 0:\n",
    "        del ims[0]\n",
    "\n",
    "    geos = mun_bounds['geometry']\n",
    "    forest_prop = mun_bounds[f\"{date[:4]}\"]\n",
    "    \n",
    "    # Note that this method will soon be deprecated\n",
    "    artist = gpd.plotting.plot_polygon_collection(ax, geos, forest_prop, cmap=\"Greens\")\n",
    "    ims.append(artist)\n",
    "    \n",
    "    mun_bounds.apply(lambda x: ax.annotate(text = x[\"name:en\"], \n",
    "                                       xy = x[\"geometry\"].centroid.coords[0],\n",
    "                                       ha = \"center\"), axis = 1)\n",
    "    \n",
    "    ax.set_title(f\"Forested Area: {date[:4]}\")\n",
    "    fig = ax.get_figure()\n",
    "    \n",
    "    # Adds axes with the following arguments: left bottom width height\n",
    "    cax = fig.add_axes([0.9, 0.1, 0.03, 0.8])\n",
    "    sm = plt.cm.ScalarMappable(cmap='Greens', norm=plt.Normalize(vmin=vmin, vmax=vmax))\n",
    "    # fake up the array of the scalar mappable. Urgh...\n",
    "    sm._A = []\n",
    "    fig.colorbar(sm, cax=cax)\n",
    "    return ims\n",
    "\n",
    "anim = FuncAnimation(fig, update_fig, interval=1000, repeat_delay=300, frames=len(dates_of_interest))\n",
    "# plt.tight_layout()\n",
    "\n",
    "animation_file = f'forest_prop_animation.gif'\n",
    "anim.save(animation_file, writer='pillow')\n",
    "\n",
    "fig.show()"
   ]
  },
  {
   "cell_type": "code",
   "execution_count": 170,
   "id": "5b365778",
   "metadata": {},
   "outputs": [
    {
     "data": {
      "text/html": [
       "<div>\n",
       "<style scoped>\n",
       "    .dataframe tbody tr th:only-of-type {\n",
       "        vertical-align: middle;\n",
       "    }\n",
       "\n",
       "    .dataframe tbody tr th {\n",
       "        vertical-align: top;\n",
       "    }\n",
       "\n",
       "    .dataframe thead th {\n",
       "        text-align: right;\n",
       "    }\n",
       "</style>\n",
       "<table border=\"1\" class=\"dataframe\">\n",
       "  <thead>\n",
       "    <tr style=\"text-align: right;\">\n",
       "      <th></th>\n",
       "      <th>name:en</th>\n",
       "      <th>area</th>\n",
       "      <th>geometry</th>\n",
       "      <th>2014</th>\n",
       "      <th>2016</th>\n",
       "      <th>2019</th>\n",
       "      <th>2023</th>\n",
       "    </tr>\n",
       "  </thead>\n",
       "  <tbody>\n",
       "    <tr>\n",
       "      <th>0</th>\n",
       "      <td>Unzen</td>\n",
       "      <td>208.396449</td>\n",
       "      <td>MULTIPOLYGON (((606635.330 3617190.342, 606631...</td>\n",
       "      <td>0.485039</td>\n",
       "      <td>0.481990</td>\n",
       "      <td>0.526471</td>\n",
       "      <td>0.498458</td>\n",
       "    </tr>\n",
       "    <tr>\n",
       "      <th>1</th>\n",
       "      <td>Togitsu</td>\n",
       "      <td>20.879353</td>\n",
       "      <td>MULTIPOLYGON (((575820.531 3637110.984, 575827...</td>\n",
       "      <td>0.192923</td>\n",
       "      <td>0.296754</td>\n",
       "      <td>0.398259</td>\n",
       "      <td>0.321753</td>\n",
       "    </tr>\n",
       "    <tr>\n",
       "      <th>2</th>\n",
       "      <td>Saikai</td>\n",
       "      <td>232.782378</td>\n",
       "      <td>MULTIPOLYGON (((550528.743 3652271.062, 550517...</td>\n",
       "      <td>0.276060</td>\n",
       "      <td>0.555925</td>\n",
       "      <td>0.640114</td>\n",
       "      <td>0.594669</td>\n",
       "    </tr>\n",
       "    <tr>\n",
       "      <th>3</th>\n",
       "      <td>Omura</td>\n",
       "      <td>126.519727</td>\n",
       "      <td>MULTIPOLYGON (((585408.055 3641409.508, 585396...</td>\n",
       "      <td>0.407291</td>\n",
       "      <td>0.436386</td>\n",
       "      <td>0.480398</td>\n",
       "      <td>0.457685</td>\n",
       "    </tr>\n",
       "    <tr>\n",
       "      <th>4</th>\n",
       "      <td>Nagasaki</td>\n",
       "      <td>405.712597</td>\n",
       "      <td>MULTIPOLYGON (((551699.236 3636587.989, 551697...</td>\n",
       "      <td>0.414392</td>\n",
       "      <td>0.530369</td>\n",
       "      <td>0.607555</td>\n",
       "      <td>0.554867</td>\n",
       "    </tr>\n",
       "    <tr>\n",
       "      <th>5</th>\n",
       "      <td>Nagayo</td>\n",
       "      <td>28.744017</td>\n",
       "      <td>MULTIPOLYGON (((580289.037 3635102.766, 580295...</td>\n",
       "      <td>0.283298</td>\n",
       "      <td>0.313833</td>\n",
       "      <td>0.411293</td>\n",
       "      <td>0.355767</td>\n",
       "    </tr>\n",
       "    <tr>\n",
       "      <th>6</th>\n",
       "      <td>Shimabara</td>\n",
       "      <td>82.896250</td>\n",
       "      <td>MULTIPOLYGON (((628768.656 3625254.691, 628765...</td>\n",
       "      <td>0.307559</td>\n",
       "      <td>0.317743</td>\n",
       "      <td>0.355417</td>\n",
       "      <td>0.344961</td>\n",
       "    </tr>\n",
       "    <tr>\n",
       "      <th>7</th>\n",
       "      <td>Higashi-Sonogi</td>\n",
       "      <td>74.189358</td>\n",
       "      <td>MULTIPOLYGON (((585736.548 3655197.079, 585740...</td>\n",
       "      <td>0.495372</td>\n",
       "      <td>0.543602</td>\n",
       "      <td>0.603270</td>\n",
       "      <td>0.581848</td>\n",
       "    </tr>\n",
       "    <tr>\n",
       "      <th>8</th>\n",
       "      <td>Minami-Shimabara</td>\n",
       "      <td>170.110766</td>\n",
       "      <td>MULTIPOLYGON (((611641.602 3607560.887, 611644...</td>\n",
       "      <td>0.308389</td>\n",
       "      <td>0.302701</td>\n",
       "      <td>0.367576</td>\n",
       "      <td>0.348194</td>\n",
       "    </tr>\n",
       "    <tr>\n",
       "      <th>9</th>\n",
       "      <td>Isahaya</td>\n",
       "      <td>329.083335</td>\n",
       "      <td>MULTIPOLYGON (((593383.615 3624357.660, 593391...</td>\n",
       "      <td>0.368262</td>\n",
       "      <td>0.385820</td>\n",
       "      <td>0.456445</td>\n",
       "      <td>0.419579</td>\n",
       "    </tr>\n",
       "    <tr>\n",
       "      <th>10</th>\n",
       "      <td>Kashima</td>\n",
       "      <td>114.757744</td>\n",
       "      <td>MULTIPOLYGON (((606931.438 3663577.401, 606452...</td>\n",
       "      <td>0.462592</td>\n",
       "      <td>0.488420</td>\n",
       "      <td>0.534506</td>\n",
       "      <td>0.526812</td>\n",
       "    </tr>\n",
       "    <tr>\n",
       "      <th>11</th>\n",
       "      <td>Tara</td>\n",
       "      <td>74.200951</td>\n",
       "      <td>MULTIPOLYGON (((613344.549 3650343.490, 613356...</td>\n",
       "      <td>0.543072</td>\n",
       "      <td>0.559374</td>\n",
       "      <td>0.627626</td>\n",
       "      <td>0.612428</td>\n",
       "    </tr>\n",
       "  </tbody>\n",
       "</table>\n",
       "</div>"
      ],
      "text/plain": [
       "             name:en        area  \\\n",
       "0              Unzen  208.396449   \n",
       "1            Togitsu   20.879353   \n",
       "2             Saikai  232.782378   \n",
       "3              Omura  126.519727   \n",
       "4           Nagasaki  405.712597   \n",
       "5             Nagayo   28.744017   \n",
       "6          Shimabara   82.896250   \n",
       "7     Higashi-Sonogi   74.189358   \n",
       "8   Minami-Shimabara  170.110766   \n",
       "9            Isahaya  329.083335   \n",
       "10           Kashima  114.757744   \n",
       "11              Tara   74.200951   \n",
       "\n",
       "                                             geometry      2014      2016  \\\n",
       "0   MULTIPOLYGON (((606635.330 3617190.342, 606631...  0.485039  0.481990   \n",
       "1   MULTIPOLYGON (((575820.531 3637110.984, 575827...  0.192923  0.296754   \n",
       "2   MULTIPOLYGON (((550528.743 3652271.062, 550517...  0.276060  0.555925   \n",
       "3   MULTIPOLYGON (((585408.055 3641409.508, 585396...  0.407291  0.436386   \n",
       "4   MULTIPOLYGON (((551699.236 3636587.989, 551697...  0.414392  0.530369   \n",
       "5   MULTIPOLYGON (((580289.037 3635102.766, 580295...  0.283298  0.313833   \n",
       "6   MULTIPOLYGON (((628768.656 3625254.691, 628765...  0.307559  0.317743   \n",
       "7   MULTIPOLYGON (((585736.548 3655197.079, 585740...  0.495372  0.543602   \n",
       "8   MULTIPOLYGON (((611641.602 3607560.887, 611644...  0.308389  0.302701   \n",
       "9   MULTIPOLYGON (((593383.615 3624357.660, 593391...  0.368262  0.385820   \n",
       "10  MULTIPOLYGON (((606931.438 3663577.401, 606452...  0.462592  0.488420   \n",
       "11  MULTIPOLYGON (((613344.549 3650343.490, 613356...  0.543072  0.559374   \n",
       "\n",
       "        2019      2023  \n",
       "0   0.526471  0.498458  \n",
       "1   0.398259  0.321753  \n",
       "2   0.640114  0.594669  \n",
       "3   0.480398  0.457685  \n",
       "4   0.607555  0.554867  \n",
       "5   0.411293  0.355767  \n",
       "6   0.355417  0.344961  \n",
       "7   0.603270  0.581848  \n",
       "8   0.367576  0.348194  \n",
       "9   0.456445  0.419579  \n",
       "10  0.534506  0.526812  \n",
       "11  0.627626  0.612428  "
      ]
     },
     "execution_count": 170,
     "metadata": {},
     "output_type": "execute_result"
    }
   ],
   "source": [
    "# From here we can calculate how the relative proportion of forested areas in each \n",
    "# municipality has changed over time\n",
    "# mun_bounds = gpd.read_file(\"mun_bounds_cleaned.geojson\")\n",
    "\n",
    "# mun_bounds"
   ]
  },
  {
   "cell_type": "code",
   "execution_count": 168,
   "id": "943b5368",
   "metadata": {},
   "outputs": [
    {
     "name": "stderr",
     "output_type": "stream",
     "text": [
      "C:\\Users\\tranq\\AppData\\Local\\Temp\\ipykernel_11124\\4271111677.py:22: FutureWarning: plot_polygon_collection is intended for internal use only, and will be deprecated.\n",
      "  artist = gpd.plotting.plot_polygon_collection(ax, geos, forest_prop, cmap=\"Greens\")\n"
     ]
    }
   ],
   "source": []
  },
  {
   "cell_type": "code",
   "execution_count": null,
   "id": "2b43b368",
   "metadata": {},
   "outputs": [],
   "source": []
  }
 ],
 "metadata": {
  "kernelspec": {
   "display_name": "Python 3 (ipykernel)",
   "language": "python",
   "name": "python3"
  },
  "language_info": {
   "codemirror_mode": {
    "name": "ipython",
    "version": 3
   },
   "file_extension": ".py",
   "mimetype": "text/x-python",
   "name": "python",
   "nbconvert_exporter": "python",
   "pygments_lexer": "ipython3",
   "version": "3.8.17"
  },
  "varInspector": {
   "cols": {
    "lenName": 16,
    "lenType": 16,
    "lenVar": 40
   },
   "kernels_config": {
    "python": {
     "delete_cmd_postfix": "",
     "delete_cmd_prefix": "del ",
     "library": "var_list.py",
     "varRefreshCmd": "print(var_dic_list())"
    },
    "r": {
     "delete_cmd_postfix": ") ",
     "delete_cmd_prefix": "rm(",
     "library": "var_list.r",
     "varRefreshCmd": "cat(var_dic_list()) "
    }
   },
   "types_to_exclude": [
    "module",
    "function",
    "builtin_function_or_method",
    "instance",
    "_Feature"
   ],
   "window_display": false
  }
 },
 "nbformat": 4,
 "nbformat_minor": 5
}
