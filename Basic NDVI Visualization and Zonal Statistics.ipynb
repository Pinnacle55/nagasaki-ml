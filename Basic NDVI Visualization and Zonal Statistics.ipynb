{
 "cells": [
  {
   "cell_type": "code",
   "execution_count": 1,
   "id": "2c280737",
   "metadata": {},
   "outputs": [],
   "source": [
    "import rasterio as rio\n",
    "from rasterio.plot import show\n",
    "import geopandas as gpd\n",
    "import pandas as pd\n",
    "import numpy as np\n",
    "import matplotlib.pyplot as plt\n",
    "from tqdm import tqdm\n",
    "import earthpy.plot as ep\n",
    "import shapely\n",
    "import os, sys, fnmatch\n",
    "from datetime import datetime"
   ]
  },
  {
   "cell_type": "code",
   "execution_count": 2,
   "id": "b5f80baa",
   "metadata": {},
   "outputs": [
    {
     "data": {
      "text/plain": [
       "['LC08_L1TP_113037_20140423_20200911_02_T1_TOA_STACKED_CROPPED.tif',\n",
       " 'LC08_L1TP_113037_20151019_20200908_02_T1_TOA_STACKED_CROPPED.tif',\n",
       " 'LC08_L1TP_113037_20160514_20200907_02_T1_TOA_STACKED_CROPPED.tif',\n",
       " 'LC08_L1TP_113037_20180317_20200901_02_T1_TOA_STACKED_CROPPED.tif',\n",
       " 'LC08_L1TP_113037_20180808_20200831_02_T1_TOA_STACKED_CROPPED.tif',\n",
       " 'LC08_L1TP_113037_20190507_20200829_02_T1_TOA_STACKED_CROPPED.tif',\n",
       " 'LC08_L1TP_113037_20200306_20200822_02_T1_TOA_STACKED_CROPPED.tif',\n",
       " 'LC08_L1TP_113037_20211120_20211130_02_T1_TOA_STACKED_CROPPED.tif',\n",
       " 'LC08_L1TP_113037_20230502_20230509_02_T1_TOA_STACKED_CROPPED.tif']"
      ]
     },
     "execution_count": 2,
     "metadata": {},
     "output_type": "execute_result"
    }
   ],
   "source": [
    "# Get the current directory\n",
    "current_directory = os.getcwd()\n",
    "\n",
    "# List all files in the directory\n",
    "all_files = os.listdir(current_directory)\n",
    "\n",
    "# Filter files that contain \"STACKED_CROPPED\" in their filename\n",
    "filenames = [filename for filename in all_files if \"STACKED_CROPPED\" in filename]\n",
    "\n",
    "# these files are automatically sorted by date acquired (filenaming conventions) from oldest\n",
    "# to youngest\n",
    "filenames"
   ]
  },
  {
   "cell_type": "code",
   "execution_count": 3,
   "id": "f0f51639",
   "metadata": {},
   "outputs": [
    {
     "name": "stderr",
     "output_type": "stream",
     "text": [
      "100%|████████████████████████████████████████████████████████████████████████████████████| 9/9 [00:10<00:00,  1.18s/it]\n"
     ]
    }
   ],
   "source": [
    "# Export NDVI rasters for each TOA image\n",
    "init_src = rio.open(filenames[-1])\n",
    "profile = init_src.profile\n",
    "profile.update(count = 1)\n",
    "init_src.close()\n",
    "\n",
    "data_dict = {}\n",
    "\n",
    "for file in tqdm(filenames):\n",
    "    # Read in the red and near infrared bands\n",
    "    src = rio.open(file)\n",
    "    red = src.read(4)\n",
    "    nir = src.read(5)\n",
    "    src.close()\n",
    "    \n",
    "    # calculate ndvi\n",
    "    ndvi = (nir - red) / (nir + red)\n",
    "    data_dict[file.split('_')[3]] = ndvi\n",
    "\n",
    "# # Uncomment this section if you need to save geotiffs of the NDVI data\n",
    "#     output_raster = rio.open(\n",
    "#         f\"NDVI_{file.split('_')[3]}.tif\",\n",
    "#         \"w\",\n",
    "#         **profile\n",
    "#     )\n",
    "    \n",
    "#     output_raster.write(ndvi, 1)\n",
    "#     output_raster.close()"
   ]
  },
  {
   "cell_type": "code",
   "execution_count": 4,
   "id": "7307fe42",
   "metadata": {},
   "outputs": [
    {
     "data": {
      "text/plain": [
       "['20200306',\n",
       " '20180317',\n",
       " '20140423',\n",
       " '20230502',\n",
       " '20190507',\n",
       " '20160514',\n",
       " '20180808',\n",
       " '20151019',\n",
       " '20211120']"
      ]
     },
     "execution_count": 4,
     "metadata": {},
     "output_type": "execute_result"
    }
   ],
   "source": [
    "# dates = [datetime.strptime(filename.split(\"_\")[3], '%Y%m%d').strftime('%d %B %Y') for filename in filenames]\n",
    "dates = [filename.split(\"_\")[3] for filename in filenames]\n",
    "\n",
    "# Sort dates by month, key is an argment that takes a function that takes in an element from the \n",
    "# list and returns some numerical output: the list will be sorted by that output\n",
    "dates = sorted(dates, key = lambda x: (int(x[4:6]), int(x[6:])))\n",
    "dates"
   ]
  },
  {
   "cell_type": "code",
   "execution_count": 31,
   "id": "d62e05a5",
   "metadata": {},
   "outputs": [],
   "source": [
    "# Basic NDVI visualization over time\n",
    "from dateutil import parser\n",
    "from matplotlib.animation import FuncAnimation\n",
    "\n",
    "%matplotlib qt5\n",
    "fig, ax = plt.subplots(figsize = (18,20))\n",
    "\n",
    "# Initialize an image plot containing the first frame\n",
    "ndvi_plot = ax.imshow(data_dict[dates[0]], cmap = \"RdYlGn\", vmin = 0.2, vmax = 0.6, interpolation = \"nearest\")\n",
    "\n",
    "# turn off axes for visual clarity\n",
    "ax.axis(\"off\")\n",
    "\n",
    "colorbar = plt.colorbar(ndvi_plot)\n",
    "\n",
    "def update(frame):\n",
    "    date = dates[frame]\n",
    "    \n",
    "    # load the image from the dictionary\n",
    "    # set the image onto the figure\n",
    "    ndvi_plot.set_data(data_dict[date])\n",
    "    \n",
    "    ax.set_title(f\"Nagasaki Prefecture NDVI\\n{parser.parse(date).strftime('%d %B %Y')}\", fontsize = 24)\n",
    "\n",
    "# Call the func animation class with the appropriate arguments. Frames indicates how many\n",
    "# frames there will be IE how many frames will be passed into the `update` function, while\n",
    "# repeat tells matplotlib whether to loop the animation, interval tells FuncAnimation how much time\n",
    "# between frames\n",
    "animation = FuncAnimation(fig, update, frames=len(dates), repeat=True, interval = 1000)\n",
    "plt.subplots_adjust(\n",
    "    top=0.91,\n",
    "    bottom=0.02,\n",
    "    left=0.008,\n",
    "    right=0.992,\n",
    "    hspace=0.2,\n",
    "    wspace=0.2\n",
    ")\n",
    "\n",
    "# Save the animation\n",
    "animation_file = f'ndvi_animation_by_month.gif'\n",
    "animation.save(animation_file, writer='pillow')\n",
    "\n",
    "plt.show()"
   ]
  },
  {
   "cell_type": "code",
   "execution_count": 13,
   "id": "84f51d5a",
   "metadata": {},
   "outputs": [
    {
     "name": "stdout",
     "output_type": "stream",
     "text": [
      "<class 'geopandas.geodataframe.GeoDataFrame'>\n",
      "RangeIndex: 12 entries, 0 to 11\n",
      "Data columns (total 39 columns):\n",
      " #   Column          Non-Null Count  Dtype   \n",
      "---  ------          --------------  -----   \n",
      " 0   name:en         12 non-null     object  \n",
      " 1   area            12 non-null     float64 \n",
      " 2   geometry        12 non-null     geometry\n",
      " 3   20200306_min    12 non-null     float64 \n",
      " 4   20200306_max    12 non-null     float64 \n",
      " 5   20200306_mean   12 non-null     float64 \n",
      " 6   20200306_count  12 non-null     int64   \n",
      " 7   20180317_min    12 non-null     float64 \n",
      " 8   20180317_max    12 non-null     float64 \n",
      " 9   20180317_mean   12 non-null     float64 \n",
      " 10  20180317_count  12 non-null     int64   \n",
      " 11  20140423_min    12 non-null     float64 \n",
      " 12  20140423_max    12 non-null     float64 \n",
      " 13  20140423_mean   12 non-null     float64 \n",
      " 14  20140423_count  12 non-null     int64   \n",
      " 15  20230502_min    12 non-null     float64 \n",
      " 16  20230502_max    12 non-null     float64 \n",
      " 17  20230502_mean   12 non-null     float64 \n",
      " 18  20230502_count  12 non-null     int64   \n",
      " 19  20190507_min    12 non-null     float64 \n",
      " 20  20190507_max    12 non-null     float64 \n",
      " 21  20190507_mean   12 non-null     float64 \n",
      " 22  20190507_count  12 non-null     int64   \n",
      " 23  20160514_min    12 non-null     float64 \n",
      " 24  20160514_max    12 non-null     float64 \n",
      " 25  20160514_mean   12 non-null     float64 \n",
      " 26  20160514_count  12 non-null     int64   \n",
      " 27  20180808_min    12 non-null     float64 \n",
      " 28  20180808_max    12 non-null     float64 \n",
      " 29  20180808_mean   12 non-null     float64 \n",
      " 30  20180808_count  12 non-null     int64   \n",
      " 31  20151019_min    12 non-null     float64 \n",
      " 32  20151019_max    12 non-null     float64 \n",
      " 33  20151019_mean   12 non-null     float64 \n",
      " 34  20151019_count  12 non-null     int64   \n",
      " 35  20211120_min    12 non-null     float64 \n",
      " 36  20211120_max    12 non-null     float64 \n",
      " 37  20211120_mean   12 non-null     float64 \n",
      " 38  20211120_count  12 non-null     int64   \n",
      "dtypes: float64(28), geometry(1), int64(9), object(1)\n",
      "memory usage: 3.8+ KB\n"
     ]
    }
   ],
   "source": [
    "import rasterstats\n",
    "\n",
    "mun_bounds = gpd.read_file(\"mun_bounds_cleaned.geojson\")\n",
    "\n",
    "for date in dates:\n",
    "    mun_ndvi = rasterstats.zonal_stats(\n",
    "        \"mun_bounds_cleaned.geojson\",\n",
    "        f\"NDVI_{date}.tif\"\n",
    "    )\n",
    "    \n",
    "    mun_ndvi = pd.DataFrame(mun_ndvi)\n",
    "    mun_ndvi = mun_ndvi.add_prefix(f\"{date}_\")\n",
    "    \n",
    "    mun_bounds = pd.concat([mun_bounds, mun_ndvi], axis = 1)\n",
    "\n",
    "# dataframe now contains ndvi \n",
    "mun_bounds.info()"
   ]
  },
  {
   "cell_type": "code",
   "execution_count": 43,
   "id": "ee4a82fb",
   "metadata": {},
   "outputs": [],
   "source": [
    "# Basic NDVI visualization over time\n",
    "from dateutil import parser\n",
    "from matplotlib.animation import FuncAnimation\n",
    "\n",
    "%matplotlib qt5\n",
    "fig, ax = plt.subplots(figsize = (18,20))\n",
    "ax.axis(\"off\")\n",
    "fontsize = 12\n",
    "\n",
    "ims = []\n",
    "\n",
    "from matplotlib.colors import LinearSegmentedColormap\n",
    "\n",
    "# Create a custom gradient cmap\n",
    "cmap = LinearSegmentedColormap.from_list(\n",
    "    name='custom',\n",
    "    colors=['red', 'yellow', 'green'])\n",
    "\n",
    "# # Find the min and max of the data\n",
    "# vmin = np.min(mun_bounds.loc[:, mun_bounds.columns.str.contains(\"mean\")].to_numpy(), axis = (0,1))\n",
    "# vmax = np.max(mun_bounds.loc[:, mun_bounds.columns.str.contains(\"mean\")].to_numpy(), axis = (0,1))\n",
    "\n",
    "# # Create a Normalizer object that will be used to set the cmap to values between the vmin and vmax\n",
    "# norm = plt.Normalize(0.4, 0.5)\n",
    "\n",
    "# # Adds axes with the following arguments: left bottom width height\n",
    "# cax = fig.add_axes([0.9, 0.1, 0.03, 0.8])\n",
    "# sm = plt.cm.ScalarMappable(cmap=cmap, norm=plt.Normalize(vmin = 0.4, vmax = 0.7))\n",
    "# # fake up the array of the scalar mappable. Urgh...\n",
    "# sm._A = []\n",
    "# fig.colorbar(sm, cax=cax)\n",
    "\n",
    "# Adds axes with the following arguments: left bottom width height\n",
    "cax = fig.add_axes([0.9, 0.1, 0.03, 0.8])\n",
    "sm = plt.cm.ScalarMappable(cmap = \"RdYlGn\", norm=plt.Normalize(vmin = 0.4, vmax = 0.7))\n",
    "# fake up the array of the scalar mappable. Urgh...\n",
    "sm._A = []\n",
    "fig.colorbar(sm, cax=cax)\n",
    "\n",
    "# colorbar = plt.colorbar(ndvi_plot)\n",
    "def update(frame):\n",
    "    date = dates[frame]\n",
    "    \n",
    "    if len(ims) > 0:\n",
    "        del ims[0]\n",
    "\n",
    "    # This is apparently how you animate with gpd plot\n",
    "    artist = mun_bounds.plot(ax = ax, column = f\"{date}_mean\", edgecolor = \"black\",\n",
    "                             cmap = \"RdYlGn\", vmin = 0.4, vmax = 0.7)\n",
    "    \n",
    "    # Annotate municipality names\n",
    "    mun_bounds.apply(lambda x: ax.annotate(text = x[\"name:en\"], \n",
    "                                       xy = x[\"geometry\"].centroid.coords[0],\n",
    "                                       ha = \"center\"), axis = 1)\n",
    "    \n",
    "    # colorbar = plt.colorbar(artist)\n",
    "    \n",
    "    ims.append(artist)\n",
    "    \n",
    "    ax.set_title(f\"Nagasaki Prefecture NDVI\\n{parser.parse(date).strftime('%d %B %Y')}\")\n",
    "    \n",
    "    return ims\n",
    "\n",
    "# Call the func animation class with the appropriate arguments. Frames indicates how many\n",
    "# frames there will be IE how many frames will be passed into the `update` function, while\n",
    "# repeat tells matplotlib whether to loop the animation, interval tells FuncAnimation how much time\n",
    "# between frames\n",
    "animation = FuncAnimation(fig, update, frames=len(dates), repeat=True, interval = 1000)\n",
    "plt.subplots_adjust(\n",
    "    top=0.91,\n",
    "    bottom=0.02,\n",
    "    left=0.008,\n",
    "    right=0.992,\n",
    "    hspace=0.2,\n",
    "    wspace=0.2\n",
    ")\n",
    "\n",
    "# Save the animation\n",
    "animation_file = f'ndvi_animation_by_mun_copy.gif'\n",
    "animation.save(animation_file, writer='pillow')\n",
    "\n",
    "plt.show()"
   ]
  },
  {
   "cell_type": "code",
   "execution_count": 32,
   "id": "656b9b53",
   "metadata": {},
   "outputs": [
    {
     "data": {
      "text/plain": [
       "0.6943770588223922"
      ]
     },
     "execution_count": 32,
     "metadata": {},
     "output_type": "execute_result"
    }
   ],
   "source": [
    "vmax"
   ]
  },
  {
   "cell_type": "code",
   "execution_count": null,
   "id": "0de48a15",
   "metadata": {},
   "outputs": [],
   "source": []
  }
 ],
 "metadata": {
  "kernelspec": {
   "display_name": "Python 3 (ipykernel)",
   "language": "python",
   "name": "python3"
  },
  "language_info": {
   "codemirror_mode": {
    "name": "ipython",
    "version": 3
   },
   "file_extension": ".py",
   "mimetype": "text/x-python",
   "name": "python",
   "nbconvert_exporter": "python",
   "pygments_lexer": "ipython3",
   "version": "3.8.17"
  },
  "varInspector": {
   "cols": {
    "lenName": 16,
    "lenType": 16,
    "lenVar": 40
   },
   "kernels_config": {
    "python": {
     "delete_cmd_postfix": "",
     "delete_cmd_prefix": "del ",
     "library": "var_list.py",
     "varRefreshCmd": "print(var_dic_list())"
    },
    "r": {
     "delete_cmd_postfix": ") ",
     "delete_cmd_prefix": "rm(",
     "library": "var_list.r",
     "varRefreshCmd": "cat(var_dic_list()) "
    }
   },
   "types_to_exclude": [
    "module",
    "function",
    "builtin_function_or_method",
    "instance",
    "_Feature"
   ],
   "window_display": false
  }
 },
 "nbformat": 4,
 "nbformat_minor": 5
}
